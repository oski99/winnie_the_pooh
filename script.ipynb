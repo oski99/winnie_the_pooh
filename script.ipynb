{
 "cells": [
  {
   "cell_type": "code",
   "execution_count": 1,
   "metadata": {},
   "outputs": [],
   "source": [
    "import emnist\n",
    "import math\n",
    "import matplotlib.pyplot as plt\n",
    "import numpy as np\n",
    "import random\n",
    "from PIL import Image\n",
    "\n",
    "label_ascii_map = np.loadtxt('./emnist-balanced-mapping.txt')\n",
    "\n",
    "my_file = open(\"./winnie.txt\", \"r\")\n",
    "data = my_file.read()\n",
    "my_file.close()\n",
    "\n",
    "img_emnist, labels_emnist = emnist.extract_training_samples('bymerge')\n",
    "\n",
    "img_kmnist = np.load('./kmnist/k49-train-imgs.npz')['arr_0']\n",
    "labels_kmnist = np.load('./kmnist/k49-train-labels.npz')['arr_0']"
   ]
  },
  {
   "cell_type": "code",
   "execution_count": 2,
   "metadata": {},
   "outputs": [],
   "source": [
    "blank_space = np.full((28, 28),255)\n",
    "\n",
    "emnist_img_label_map = {}\n",
    "for label in np.unique(labels_emnist):\n",
    "    emnist_img_label_map[label] = np.where(labels_emnist == label)[0]\n",
    "\n",
    "kmnist_img_label_map = {}\n",
    "for label in np.unique(labels_kmnist):\n",
    "    kmnist_img_label_map[label] = np.where(labels_kmnist == label)[0]"
   ]
  },
  {
   "cell_type": "code",
   "execution_count": 3,
   "metadata": {},
   "outputs": [],
   "source": [
    "def ascii_to_emnist_id(ascii):\n",
    "    return label_ascii_map[np.where(label_ascii_map[:,1] == ascii)][0][0]"
   ]
  },
  {
   "cell_type": "code",
   "execution_count": 4,
   "metadata": {},
   "outputs": [],
   "source": [
    "ascii_in_emnist = label_ascii_map[:,1]\n",
    "\n",
    "missing_letters = [\n",
    "    99, 105, 106, \n",
    "    107, 108, 109, \n",
    "    111, 112, 115, \n",
    "    117, 118, 119, \n",
    "    120, 121, 122\n",
    "]\n",
    "\n",
    "winnie_wo_missing = [letter if ord(letter) not in missing_letters else chr(ord(letter)-32) for letter in data]\n",
    "winnie_wo_missing = ''.join(winnie_wo_missing)\n",
    "winnie_wo_missing = winnie_wo_missing.split(\"\\n\")\n",
    "\n",
    "winnie_ascii = []\n",
    "for line_num in range(len(winnie_wo_missing)):\n",
    "    line = [ord(x) if ord(x) in ascii_in_emnist else -1 for x in [*winnie_wo_missing[line_num]]]\n",
    "    winnie_ascii.append(line)"
   ]
  },
  {
   "cell_type": "code",
   "execution_count": 5,
   "metadata": {},
   "outputs": [],
   "source": [
    "def translate_ascii_to_label(winnie_ascii):\n",
    "    blank_line = [-1] * 80\n",
    "    pages_num = math.ceil(len(winnie_ascii)/114)\n",
    "    book = []\n",
    "    for page_num in range(pages_num):\n",
    "        new_page = []\n",
    "\n",
    "        for line in winnie_ascii[page_num*114:(page_num+1)*114]:\n",
    "            new_line = []\n",
    "            \n",
    "            for letter in line:\n",
    "                if letter == -1:\n",
    "                    new_line.append(-1) \n",
    "\n",
    "                else:\n",
    "                    e_id = ascii_to_emnist_id(letter)\n",
    "                    new_line.append(e_id)\n",
    "\n",
    "            while len(new_line) < 80:\n",
    "                new_line.append(-1) \n",
    "\n",
    "            new_page.append(new_line)\n",
    "\n",
    "        while len(new_page) < 114:\n",
    "            new_page.append(blank_line)\n",
    "\n",
    "        book.append(new_page)\n",
    "\n",
    "    return np.array(book)\n",
    "\n",
    "winnie_label = translate_ascii_to_label(winnie_ascii)"
   ]
  },
  {
   "cell_type": "code",
   "execution_count": 6,
   "metadata": {},
   "outputs": [],
   "source": [
    "def generate(winnie_label, is_emnist=True):\n",
    "\n",
    "    blank_line = np.full((80, 80*114),255)\n",
    "    pages_num = winnie_label.shape[0]\n",
    "\n",
    "    for page_num in range(pages_num):\n",
    "        new_page = []\n",
    "        for line in winnie_label[page_num]:\n",
    "            new_line = []\n",
    "            for letter in line:\n",
    "                if letter == -1:\n",
    "                    new_line.append(blank_space) \n",
    "\n",
    "                else:\n",
    "                    if is_emnist:\n",
    "                        random_id = random.choice(emnist_img_label_map[letter])\n",
    "                        new_letter = 255 - img_emnist[random_id]\n",
    "\n",
    "\n",
    "                    else:\n",
    "                        random_id = random.choice(kmnist_img_label_map[letter])\n",
    "                        new_letter = 255 - img_kmnist[random_id]\n",
    "                    new_line.append(new_letter)\n",
    "                \n",
    "            while len(new_line) < 80:\n",
    "                new_line.append(blank_space) \n",
    "\n",
    "            new_line = np.concatenate(new_line, axis=1) \n",
    "            new_page.append(new_line)\n",
    "\n",
    "        new_page = np.concatenate(new_page, axis=0) \n",
    "        \n",
    "        im = Image.fromarray(new_page)\n",
    "\n",
    "        im = im.convert('RGB')\n",
    "        if is_emnist:\n",
    "            im.save(f'./winnie-emnist/{page_num}.png')\n",
    "        else:\n",
    "            im.save(f'./winnie-kmnist/{page_num}.png')\n",
    "\n",
    "generate(winnie_label)"
   ]
  }
 ],
 "metadata": {
  "kernelspec": {
   "display_name": "Python 3.10.6 ('myenv')",
   "language": "python",
   "name": "python3"
  },
  "language_info": {
   "codemirror_mode": {
    "name": "ipython",
    "version": 3
   },
   "file_extension": ".py",
   "mimetype": "text/x-python",
   "name": "python",
   "nbconvert_exporter": "python",
   "pygments_lexer": "ipython3",
   "version": "3.10.6"
  },
  "orig_nbformat": 4,
  "vscode": {
   "interpreter": {
    "hash": "e14722c357501fe3bfbd1633a4281af51042b8b8a96b9fa0680e5a01b99f47b5"
   }
  }
 },
 "nbformat": 4,
 "nbformat_minor": 2
}
